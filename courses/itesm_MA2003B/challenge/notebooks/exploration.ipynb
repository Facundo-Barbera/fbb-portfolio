{
 "cells": [
  {
   "cell_type": "markdown",
   "id": "d9560609ddf4b6f3",
   "metadata": {},
   "source": [
    "# Dataset Exploration\n",
    "\n",
    "_Note: For this notebook to work you will need to have run the process dataset notebook or script._\n",
    "_The file `data/processed/main_dataframe.csv` should exist._"
   ]
  },
  {
   "cell_type": "code",
   "execution_count": 1,
   "id": "initial_id",
   "metadata": {
    "ExecuteTime": {
     "end_time": "2025-08-29T00:47:43.388811Z",
     "start_time": "2025-08-29T00:47:43.110461Z"
    },
    "collapsed": true
   },
   "outputs": [],
   "source": [
    "import os\n",
    "import numpy as np\n",
    "import pandas as pd"
   ]
  },
  {
   "cell_type": "code",
   "execution_count": 2,
   "id": "1975c20c41bd5a28",
   "metadata": {
    "ExecuteTime": {
     "end_time": "2025-08-29T00:47:43.531482Z",
     "start_time": "2025-08-29T00:47:43.394642Z"
    }
   },
   "outputs": [],
   "source": [
    "contaminants = [\"PM10\", \"PM2.5\", \"O3\", \"SO2\", \"NO2\", \"CO\", \"NO\", \"NOX\"]\n",
    "\n",
    "df = pd.read_csv(\n",
    "\t\"../data/processed/main_dataframe.csv\",\n",
    "\tparse_dates=[\"date\"],\n",
    "\tengine=\"pyarrow\"\n",
    ")"
   ]
  },
  {
   "cell_type": "code",
   "execution_count": 3,
   "id": "fa3e47b2a47107b5",
   "metadata": {
    "ExecuteTime": {
     "end_time": "2025-08-29T00:47:43.580880Z",
     "start_time": "2025-08-29T00:47:43.537533Z"
    }
   },
   "outputs": [],
   "source": [
    "# There are certain values with -9999 that should be treated as NaN\n",
    "df.replace(-9999, np.nan, inplace=True)"
   ]
  },
  {
   "cell_type": "code",
   "execution_count": 4,
   "id": "9dd411774d2b3489",
   "metadata": {
    "ExecuteTime": {
     "end_time": "2025-08-29T00:47:43.615094Z",
     "start_time": "2025-08-29T00:47:43.590140Z"
    }
   },
   "outputs": [
    {
     "data": {
      "text/html": [
       "<div>\n",
       "<style scoped>\n",
       "    .dataframe tbody tr th:only-of-type {\n",
       "        vertical-align: middle;\n",
       "    }\n",
       "\n",
       "    .dataframe tbody tr th {\n",
       "        vertical-align: top;\n",
       "    }\n",
       "\n",
       "    .dataframe thead th {\n",
       "        text-align: right;\n",
       "    }\n",
       "</style>\n",
       "<table border=\"1\" class=\"dataframe\">\n",
       "  <thead>\n",
       "    <tr style=\"text-align: right;\">\n",
       "      <th></th>\n",
       "      <th>date</th>\n",
       "      <th>CO</th>\n",
       "      <th>station_code</th>\n",
       "    </tr>\n",
       "  </thead>\n",
       "  <tbody>\n",
       "    <tr>\n",
       "      <th>0</th>\n",
       "      <td>2020-01-01 00:00:00</td>\n",
       "      <td>NaN</td>\n",
       "      <td>SE</td>\n",
       "    </tr>\n",
       "    <tr>\n",
       "      <th>1</th>\n",
       "      <td>2020-01-01 01:00:00</td>\n",
       "      <td>2.11</td>\n",
       "      <td>SE</td>\n",
       "    </tr>\n",
       "    <tr>\n",
       "      <th>2</th>\n",
       "      <td>2020-01-01 02:00:00</td>\n",
       "      <td>2.06</td>\n",
       "      <td>SE</td>\n",
       "    </tr>\n",
       "    <tr>\n",
       "      <th>3</th>\n",
       "      <td>2020-01-01 03:00:00</td>\n",
       "      <td>1.96</td>\n",
       "      <td>SE</td>\n",
       "    </tr>\n",
       "    <tr>\n",
       "      <th>4</th>\n",
       "      <td>2020-01-01 04:00:00</td>\n",
       "      <td>1.98</td>\n",
       "      <td>SE</td>\n",
       "    </tr>\n",
       "    <tr>\n",
       "      <th>...</th>\n",
       "      <td>...</td>\n",
       "      <td>...</td>\n",
       "      <td>...</td>\n",
       "    </tr>\n",
       "    <tr>\n",
       "      <th>779376</th>\n",
       "      <td>2025-06-30 19:00:00</td>\n",
       "      <td>NaN</td>\n",
       "      <td>NE3</td>\n",
       "    </tr>\n",
       "    <tr>\n",
       "      <th>779377</th>\n",
       "      <td>2025-06-30 20:00:00</td>\n",
       "      <td>NaN</td>\n",
       "      <td>NE3</td>\n",
       "    </tr>\n",
       "    <tr>\n",
       "      <th>779378</th>\n",
       "      <td>2025-06-30 21:00:00</td>\n",
       "      <td>NaN</td>\n",
       "      <td>NE3</td>\n",
       "    </tr>\n",
       "    <tr>\n",
       "      <th>779379</th>\n",
       "      <td>2025-06-30 22:00:00</td>\n",
       "      <td>NaN</td>\n",
       "      <td>NE3</td>\n",
       "    </tr>\n",
       "    <tr>\n",
       "      <th>779380</th>\n",
       "      <td>2025-06-30 23:00:00</td>\n",
       "      <td>NaN</td>\n",
       "      <td>NE3</td>\n",
       "    </tr>\n",
       "  </tbody>\n",
       "</table>\n",
       "<p>779381 rows × 3 columns</p>\n",
       "</div>"
      ],
      "text/plain": [
       "                      date    CO station_code\n",
       "0      2020-01-01 00:00:00   NaN           SE\n",
       "1      2020-01-01 01:00:00  2.11           SE\n",
       "2      2020-01-01 02:00:00  2.06           SE\n",
       "3      2020-01-01 03:00:00  1.96           SE\n",
       "4      2020-01-01 04:00:00  1.98           SE\n",
       "...                    ...   ...          ...\n",
       "779376 2025-06-30 19:00:00   NaN          NE3\n",
       "779377 2025-06-30 20:00:00   NaN          NE3\n",
       "779378 2025-06-30 21:00:00   NaN          NE3\n",
       "779379 2025-06-30 22:00:00   NaN          NE3\n",
       "779380 2025-06-30 23:00:00   NaN          NE3\n",
       "\n",
       "[779381 rows x 3 columns]"
      ]
     },
     "execution_count": 4,
     "metadata": {},
     "output_type": "execute_result"
    }
   ],
   "source": [
    "# Get a smaller dataframe with date, co and station_code\n",
    "new_df = df[[\"date\", \"CO\", \"station_code\"]].copy()\n",
    "new_df"
   ]
  },
  {
   "cell_type": "markdown",
   "id": "c839db417b01618a",
   "metadata": {},
   "source": [
    "## Saving the dataset subsets\n",
    "\n",
    "For the per-station analysis, we will create separate CSV files for each station code."
   ]
  },
  {
   "cell_type": "code",
   "execution_count": 5,
   "id": "b07f6142d35b14d2",
   "metadata": {
    "ExecuteTime": {
     "end_time": "2025-08-29T00:47:48.477506Z",
     "start_time": "2025-08-29T00:47:43.629504Z"
    }
   },
   "outputs": [],
   "source": [
    "output_dir = os.path.join(\"..\", \"data\", \"processed\", \"subsets\")\n",
    "os.makedirs(output_dir, exist_ok=True)\n",
    "\n",
    "station_codes = df[\"station_code\"].dropna().astype(str).unique()\n",
    "\n",
    "for code in station_codes:\n",
    "    subset = df[df[\"station_code\"].astype(str) == code].copy()\n",
    "    if \"date\" in subset.columns:\n",
    "        subset.sort_values(\"date\", inplace=True)\n",
    "    filename = f\"dataset_{code.lower()}.csv\"\n",
    "    subset_path = os.path.join(output_dir, filename)\n",
    "    subset.to_csv(subset_path, index=False)"
   ]
  }
 ],
 "metadata": {
  "kernelspec": {
   "display_name": ".venv",
   "language": "python",
   "name": "python3"
  },
  "language_info": {
   "codemirror_mode": {
    "name": "ipython",
    "version": 3
   },
   "file_extension": ".py",
   "mimetype": "text/x-python",
   "name": "python",
   "nbconvert_exporter": "python",
   "pygments_lexer": "ipython3",
   "version": "3.10.11"
  }
 },
 "nbformat": 4,
 "nbformat_minor": 5
}
